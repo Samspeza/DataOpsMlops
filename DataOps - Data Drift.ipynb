{
 "cells": [
  {
   "cell_type": "markdown",
   "metadata": {
    "id": "GmQg_xdwnlHS"
   },
   "source": [
    "#**DataOps - Parte 1**\n",
    "\n",
    "## **Aplicação**: detecção de data drift em um dataset\n",
    "\n",
    "Data Drift é um fenômeno em que os dados usados para treinar um modelo de ML mudam com o tempo. Isso pode levar a uma diminuição nas métricas do modelo, uma vez que o modelo pode não ser mais capaz de generalizar bem para novos dados. Em outras palavras, o Data Drift ocorre quando os dados de entrada do modelo mudam ao longo do tempo, o que pode afetar a precisão e a eficácia do modelo. Para lidar com o Data Drift, é importante monitorar os dados usados para treinar os modelos, atualizar os dados regularmente e, se necessário, refazer os modelos completamente.\n",
    "\n",
    "Existem dois tipos de Drift: Data Drift e Concept Drift.\n",
    "\n",
    "- **Data Drift**: É um fenômeno em que os dados usados para treinar um modelo de Machine Learning mudam com o tempo. Isso pode levar a uma diminuição nas métricas do modelo, uma vez que o modelo pode não ser mais capaz de generalizar bem para novos dados.\n",
    "- **Concept Drift**: É um fenômeno em que a relação entre os dados e a variável alvo muda com o tempo. Isso pode levar a uma diminuição na precisão do modelo, uma vez que o modelo pode não ser mais capaz de capturar a relação entre os dados e a variável alvo de forma eficaz. O Concept Drift pode ser resolvido refazendo o modelo.\n",
    "\n",
    "Existem diferentes abordagens para lidar com cada tipo de Drift:\n",
    "\n",
    "- **Data Drift**: é importante monitorar os dados usados para treinar os modelos, atualizar os dados regularmente e, se necessário, refazer os modelos completamente. A atualização dos dados pode ser feita por meio de técnicas como reamostragem, reequilíbrio de classes e reajuste de pesos.\n",
    "- **Concept Drift**: é importante refazer o modelo completamente. Isso pode envolver a coleta de novos dados, a redefinição das variáveis de entrada e a redefinição da variável alvo. É importante lembrar que o Concept Drift pode ser um sinal de que o modelo precisa ser atualizado ou que a estratégia de negócios da empresa mudou. Portanto, é importante avaliar cuidadosamente a causa do Concept Drift antes de refazer o modelo\n"
   ]
  },
  {
   "cell_type": "markdown",
   "metadata": {
    "id": "3qZ5tI_vodqm"
   },
   "source": [
    "## Instalando o pacote"
   ]
  },
  {
   "cell_type": "code",
   "execution_count": 7,
   "metadata": {
    "executionInfo": {
     "elapsed": 5450,
     "status": "ok",
     "timestamp": 1696594689268,
     "user": {
      "displayName": "Renan Santos",
      "userId": "04397563216481938509"
     },
     "user_tz": 180
    },
    "id": "9RnPzyPAmAlP"
   },
   "outputs": [],
   "source": [
    "!pip install evidently -q"
   ]
  },
  {
   "cell_type": "code",
   "execution_count": 8,
   "metadata": {
    "executionInfo": {
     "elapsed": 12,
     "status": "ok",
     "timestamp": 1696594689269,
     "user": {
      "displayName": "Renan Santos",
      "userId": "04397563216481938509"
     },
     "user_tz": 180
    },
    "id": "fM7cYAhylTU9"
   },
   "outputs": [],
   "source": [
    "import pandas as pd\n",
    "fetal_health = pd.read_csv('https://raw.githubusercontent.com/renansantosmendes/lectures-cdas-2023/master/fetal_health_reduced.csv')"
   ]
  },
  {
   "cell_type": "markdown",
   "metadata": {
    "id": "wkQ7OmIzmLIS"
   },
   "source": [
    "# Evidently\n",
    "### Importando as bibliotecas"
   ]
  },
  {
   "cell_type": "code",
   "execution_count": 9,
   "metadata": {
    "executionInfo": {
     "elapsed": 10,
     "status": "ok",
     "timestamp": 1696594689269,
     "user": {
      "displayName": "Renan Santos",
      "userId": "04397563216481938509"
     },
     "user_tz": 180
    },
    "id": "6VrH11HklVDa"
   },
   "outputs": [],
   "source": [
    "import pandas as pd\n",
    "\n",
    "from sklearn import datasets\n",
    "\n",
    "from evidently.test_suite import TestSuite\n",
    "from evidently.test_preset import DataStabilityTestPreset\n",
    "from evidently.report import Report\n",
    "from evidently.metric_preset import DataDriftPreset"
   ]
  },
  {
   "cell_type": "markdown",
   "metadata": {
    "id": "dh32MGUMpoEn"
   },
   "source": [
    "## **Executando teste para data drift**\n",
    "\n",
    "A classe DataDriftPreset do pacote Evidently é uma classe que fornece presets para testes de drift de dados. Estes presets são conjuntos de configurações que podem ser usados para executar testes de dirft de dados sem precisar definir todas as configurações manualmente.\n",
    "\n",
    "Os presets estão disponíveis para uma variedade de tipos de testes de drifts de dados, incluindo:\n",
    "\n",
    "- **Testes de drifts de distribuição**: esses testes verificam se a distribuição de dados muda ao longo do tempo.\n",
    "- **Testes de drifts de outliers**: esses testes verificam se o número de outliers em seus dados muda ao longo do tempo.\n",
    "- **Testes de drifts de correlação**: esses testes verificam se as correlações entre as variáveis em seus dados mudam ao longo do tempo.\n",
    "\n",
    "Para usar um preset, basta criar uma instância da classe DataDriftPreset e passar o tipo de teste de drifts que deseja executar.\n",
    "\n",
    "Os testes estatísticos usados na classe DataDriftPreset:\n",
    "\n",
    "- **Testes de deriva de distribuição**:\n",
    "  - **Teste de Kolmogorov-Smirnov**: Este teste compara as distribuições de duas amostras para detectar diferenças significativas.\n",
    "  - **Teste de Jarque-Bera**: Este teste compara as distribuições de duas amostras para detectar assimetria e curtose.\n",
    "  - **Teste de Shapiro-Wilk**: Este teste compara as distribuições de duas amostras para detectar normalidade.\n",
    "- **Testes de drift de outliers**:\n",
    "  - **Teste de Tukey**: Este teste identifica outliers em uma amostra usando um intervalo de confiança.\n",
    "  - **Teste de Grubbs**: Este teste identifica outliers em uma amostra usando um teste de hipótese.\n",
    "  - **Teste de Dixon**: Este teste identifica outliers em uma amostra usando uma equação.\n",
    "- **Testes de drift de correlação**:\n",
    "  - **Teste de Kendall**: Este teste mede a correlação entre duas variáveis usando uma medida não paramétrica.\n",
    "  - **Teste de Spearman**: Este teste mede a correlação entre duas variáveis usando uma medida não paramétrica.\n",
    "  - **Teste de Pearson**: Este teste mede a correlação entre duas variáveis usando uma medida paramétrica.\n",
    "\n",
    "Os presets da classe DataDriftPreset também usam métodos visuais para detectar deriva de dados. Por exemplo, os presets podem usar gráficos de dispersão para comparar as distribuições de duas amostras."
   ]
  },
  {
   "cell_type": "code",
   "execution_count": 36,
   "metadata": {
    "executionInfo": {
     "elapsed": 270,
     "status": "ok",
     "timestamp": 1696602612836,
     "user": {
      "displayName": "Renan Santos",
      "userId": "04397563216481938509"
     },
     "user_tz": 180
    },
    "id": "8z7qGuEMzEze"
   },
   "outputs": [],
   "source": [
    "reference_data = fetal_health.iloc[:60]\n",
    "current_data = fetal_health.iloc[200:260]"
   ]
  },
  {
   "cell_type": "code",
   "execution_count": 35,
   "metadata": {
    "colab": {
     "base_uri": "https://localhost:8080/",
     "height": 1000,
     "output_embedded_package_id": "1gksCGK103RQmaAfLkmejyVqJdFfCxqP4"
    },
    "executionInfo": {
     "elapsed": 2961,
     "status": "ok",
     "timestamp": 1696602603115,
     "user": {
      "displayName": "Renan Santos",
      "userId": "04397563216481938509"
     },
     "user_tz": 180
    },
    "id": "138BooOGo9YA",
    "outputId": "4a5befe6-572e-46c5-fbc3-4e5eb3b9af77"
   },
   "outputs": [
    {
     "data": {
      "text/plain": [
       "Output hidden; open in https://colab.research.google.com to view."
      ]
     },
     "metadata": {},
     "output_type": "display_data"
    }
   ],
   "source": [
    "data_drift_report = Report(metrics=[\n",
    "    DataDriftPreset(),\n",
    "\n",
    "])\n",
    "\n",
    "data_drift_report.run(current_data=current_data,\n",
    "                      reference_data=reference_data,\n",
    "                      column_mapping=None)\n",
    "data_drift_report"
   ]
  },
  {
   "cell_type": "markdown",
   "metadata": {
    "id": "f7LEEs4eP0Zl"
   },
   "source": [
    "#**DataOps - Parte 2**"
   ]
  },
  {
   "cell_type": "code",
   "execution_count": 12,
   "metadata": {
    "colab": {
     "base_uri": "https://localhost:8080/"
    },
    "executionInfo": {
     "elapsed": 14,
     "status": "ok",
     "timestamp": 1696594691838,
     "user": {
      "displayName": "Renan Santos",
      "userId": "04397563216481938509"
     },
     "user_tz": 180
    },
    "id": "DJe7_wQrpN24",
    "outputId": "60e83cb6-76dd-49db-d275-fa92fed3899d"
   },
   "outputs": [
    {
     "data": {
      "text/plain": [
       "False"
      ]
     },
     "execution_count": 12,
     "metadata": {},
     "output_type": "execute_result"
    }
   ],
   "source": [
    "data_drift_report.as_dict().get('metrics')[0].get('result').get('dataset_drift')"
   ]
  },
  {
   "cell_type": "code",
   "execution_count": 13,
   "metadata": {
    "executionInfo": {
     "elapsed": 384,
     "status": "ok",
     "timestamp": 1696599990527,
     "user": {
      "displayName": "Renan Santos",
      "userId": "04397563216481938509"
     },
     "user_tz": 180
    },
    "id": "wXPhXl0CPT0z"
   },
   "outputs": [],
   "source": [
    "import requests"
   ]
  },
  {
   "cell_type": "code",
   "execution_count": null,
   "metadata": {
    "executionInfo": {
     "elapsed": 275,
     "status": "ok",
     "timestamp": 1696600796438,
     "user": {
      "displayName": "Renan Santos",
      "userId": "04397563216481938509"
     },
     "user_tz": 180
    },
    "id": "MBfneCGzzVO4"
   },
   "outputs": [],
   "source": [
    "def request_train():\n",
    "  user = 'renansantosmendes'\n",
    "  repos = 'mlops-ead'\n",
    "  url=f\"https://api.github.com/repos/{user}/{repos}/dispatches\"\n",
    "\n",
    "  headers = {\n",
    "      \"X-GitHub-Api-Version\": \"2022-11-28\",\n",
    "      \"Accept\": \"application/vnd.github+json\",\n",
    "      \"Authorization\" : \"\"\n",
    "  }\n",
    "\n",
    "  body = {\n",
    "      \"event_type\": \"webhook\"\n",
    "      }\n",
    "\n",
    "  response = requests.post(url, json=body, headers=headers)\n",
    "\n",
    "  if response.status_code >= 200 and response.status_code < 300:\n",
    "      print('Requisição bem-sucedida!')\n",
    "  else:\n",
    "      print('Erro na requisição:')\n",
    "      print('Status code:', response.status_code)\n",
    "      print('Resposta:', response.text)"
   ]
  },
  {
   "cell_type": "code",
   "execution_count": 22,
   "metadata": {
    "colab": {
     "base_uri": "https://localhost:8080/"
    },
    "executionInfo": {
     "elapsed": 253,
     "status": "ok",
     "timestamp": 1696600547103,
     "user": {
      "displayName": "Renan Santos",
      "userId": "04397563216481938509"
     },
     "user_tz": 180
    },
    "id": "sbg-Y1yzQG1T",
    "outputId": "4babd5df-b426-4728-ab62-63ce7e1e7aa5"
   },
   "outputs": [
    {
     "name": "stdout",
     "output_type": "stream",
     "text": [
      "Datadrift não detectado\n"
     ]
    }
   ],
   "source": [
    "has_drift = data_drift_report.as_dict().get('metrics')[0].get('result').get('dataset_drift')\n",
    "\n",
    "if has_drift:\n",
    "  print('Datadrift detectado')\n",
    "  request_train()\n",
    "else:\n",
    "  print('Datadrift não detectado')"
   ]
  },
  {
   "cell_type": "code",
   "execution_count": 25,
   "metadata": {
    "colab": {
     "base_uri": "https://localhost:8080/"
    },
    "executionInfo": {
     "elapsed": 859,
     "status": "ok",
     "timestamp": 1696600804167,
     "user": {
      "displayName": "Renan Santos",
      "userId": "04397563216481938509"
     },
     "user_tz": 180
    },
    "id": "Wkt6orD-Rdyp",
    "outputId": "fd864bf9-537f-47f4-8782-6a8ecc3e05b3"
   },
   "outputs": [
    {
     "name": "stdout",
     "output_type": "stream",
     "text": [
      "Requisição bem-sucedida!\n"
     ]
    }
   ],
   "source": [
    "request_train()"
   ]
  },
  {
   "cell_type": "code",
   "execution_count": null,
   "metadata": {
    "id": "uLc3t0KkRfnZ"
   },
   "outputs": [],
   "source": []
  }
 ],
 "metadata": {
  "colab": {
   "provenance": [
    {
     "file_id": "1ovpj36h3b-70dU4MIxjzoHCwIKdB9Q5l",
     "timestamp": 1693787676848
    }
   ]
  },
  "kernelspec": {
   "display_name": "Python 3",
   "name": "python3"
  },
  "language_info": {
   "name": "python"
  }
 },
 "nbformat": 4,
 "nbformat_minor": 0
}
